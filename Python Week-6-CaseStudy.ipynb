{
 "cells": [
  {
   "cell_type": "code",
   "execution_count": 2,
   "id": "56e8bba0-5798-4f56-bf31-af964b9fc1dd",
   "metadata": {},
   "outputs": [
    {
     "name": "stdout",
     "output_type": "stream",
     "text": [
      "Bagging Classifier Accuracy: 0.969208211143695\n",
      "Boosting Classifier Accuracy: 0.9611436950146628\n"
     ]
    }
   ], 
   "source": [
    "\n",
    "from sklearn.model_selection import train_test_split\n",
    "from sklearn.tree import DecisionTreeClassifier\n",
    "from sklearn.ensemble import BaggingClassifier, AdaBoostClassifier\n",
    "from sklearn.metrics import accuracy_score\n",
    "import pandas as pd\n",
    "\n",
    "# Load the dataset from CSV\n",
    "data = pd.read_csv(\"C:/Users/agshi/Desktop/BOOTCAMP/Week 6/Python/data.csv\")\n",
    "\n",
    "# Assuming the last column is the target variable\n",
    "X = data.iloc[:, 1:]  # Features (excluding the first column)\n",
    "y = data.iloc[:, 0]   # Target (first column)\n",
    "\n",
    "# Split the data into training and testing sets\n",
    "X_train, X_test, y_train, y_test = train_test_split(X, y, test_size=0.2, random_state=42)\n",
    "\n",
    "# Build the Bagging Classifier\n",
    "bagging_clf = BaggingClassifier(estimator=DecisionTreeClassifier(), n_estimators=50, random_state=42)\n",
    "\n",
    "# Train the Bagging Classifier\n",
    "bagging_clf.fit(X_train, y_train)\n",
    "\n",
    "# Predict using the Bagging Classifier\n",
    "bagging_pred = bagging_clf.predict(X_test)\n",
    "\n",
    "# Evaluate the Bagging Classifier\n",
    "bagging_accuracy = accuracy_score(y_test, bagging_pred)\n",
    "print(\"Bagging Classifier Accuracy:\", bagging_accuracy)\n",
    "\n",
    "# Build the AdaBoost Classifier\n",
    "boosting_clf = AdaBoostClassifier(estimator=DecisionTreeClassifier(max_depth=1), n_estimators=50, random_state=42)\n",
    "\n",
    "# Train the AdaBoost Classifier\n",
    "boosting_clf.fit(X_train, y_train)\n",
    "\n",
    "# Predict using the AdaBoost Classifier\n",
    "boosting_pred = boosting_clf.predict(X_test)\n",
    "\n",
    "# Evaluate the AdaBoost Classifier\n",
    "boosting_accuracy = accuracy_score(y_test, boosting_pred)\n",
    "print(\"Boosting Classifier Accuracy:\", boosting_accuracy)\n"
   ]
  }
 ],
 "metadata": {
  "kernelspec": {
   "display_name": "Python 3 (ipykernel)",
   "language": "python",
   "name": "python3"
  },
  "language_info": {
   "codemirror_mode": {
    "name": "ipython",
    "version": 3
   },
   "file_extension": ".py",
   "mimetype": "text/x-python",
   "name": "python",
   "nbconvert_exporter": "python",
   "pygments_lexer": "ipython3",
   "version": "3.11.7"
  }
 },
 "nbformat": 4,
 "nbformat_minor": 5
}
